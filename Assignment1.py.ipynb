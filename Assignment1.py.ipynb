{
 "cells": [
  {
   "cell_type": "raw",
   "id": "de688def",
   "metadata": {},
   "source": [
    "#1:--  \n",
    "       value:  'hello',-87.8,6.\n",
    "       Expression:  *,-,/,+."
   ]
  },
  {
   "cell_type": "markdown",
   "id": "1d2db572",
   "metadata": {},
   "source": [
    "#2:--  \n",
    "       Variable:variable is nothing but it is symbol where you can store any data type,and use it anywhere where it require.\n",
    "       String  :String is nothing but it is data type,where data n the form of combination of char or digit and combination of        char and string and you can store it any variable.\n",
    "       Ex: a=\"Ehsanul\".\n",
    "           where a is variable and Ehsanul is String data type."
   ]
  },
  {
   "cell_type": "markdown",
   "id": "44d364d3",
   "metadata": {},
   "source": [
    "#3:-- 3 different data type are\n",
    "\n",
    "      int-It store the numeric digit.     Ex=> a=1.\n",
    "      char-it store char datatype.        Ex=> a='b'\n",
    "      float-it store floating point value.Ex=> a=34.65"
   ]
  },
  {
   "cell_type": "markdown",
   "id": "b62386e9",
   "metadata": {},
   "source": [
    "#4:--  \n",
    "    Expression:Expression is the combination of operator and operands.we can store in any variable and use as per our need.\n",
    "    Ex=> x = 16 + 2.8\n",
    "    "
   ]
  },
  {
   "cell_type": "markdown",
   "id": "962cacb0",
   "metadata": {},
   "source": [
    "#5:--\n",
    "    Expression: Expression is combination of operator and operands.\n",
    "         Ex=> x = 16 + 2.8\n",
    "    Statement: A statement is an instruction that the Python interpreter can execute. \n",
    "        We have seen two kinds of statements: print and assignment(=)."
   ]
  },
  {
   "cell_type": "code",
   "execution_count": 5,
   "id": "3b4e6e9f",
   "metadata": {},
   "outputs": [
    {
     "data": {
      "text/plain": [
       "23"
      ]
     },
     "execution_count": 5,
     "metadata": {},
     "output_type": "execute_result"
    }
   ],
   "source": [
    "#6:--\n",
    "bacon=22\n",
    "bacon+1"
   ]
  },
  {
   "cell_type": "code",
   "execution_count": 11,
   "id": "c926a4f0",
   "metadata": {},
   "outputs": [
    {
     "data": {
      "text/plain": [
       "'spamspamspam'"
      ]
     },
     "execution_count": 11,
     "metadata": {},
     "output_type": "execute_result"
    }
   ],
   "source": [
    "#7:--\n",
    "'spam'+'spamspam'"
   ]
  },
  {
   "cell_type": "code",
   "execution_count": 12,
   "id": "5e01db73",
   "metadata": {},
   "outputs": [
    {
     "data": {
      "text/plain": [
       "'spamspamspam'"
      ]
     },
     "execution_count": 12,
     "metadata": {},
     "output_type": "execute_result"
    }
   ],
   "source": [
    "'spam'*3"
   ]
  },
  {
   "cell_type": "markdown",
   "id": "c92da620",
   "metadata": {},
   "source": [
    "#8:--\n",
    "variable store only char data type not an int data type so eggs is valid variable name and 100 is invalid."
   ]
  },
  {
   "cell_type": "markdown",
   "id": "be3acfaa",
   "metadata": {},
   "source": [
    "#9:-\n",
    "int()    -  for int data type\n",
    "float()  -  for float data type\n",
    "str()    -  for string data type"
   ]
  },
  {
   "cell_type": "code",
   "execution_count": 15,
   "id": "034808bb",
   "metadata": {},
   "outputs": [
    {
     "data": {
      "text/plain": [
       "'I have eaten99burritos'"
      ]
     },
     "execution_count": 15,
     "metadata": {},
     "output_type": "execute_result"
    }
   ],
   "source": [
    "#10:-\n",
    "'I have eaten'+99+'burritos'\n",
    "it is combination of int and string data type so interpreter not able to interpret. \n",
    "there are two way to solve.\n",
    "(1)'I have eaten'+'99'+'burritos'\n",
    "(2)'I have eaten'+str(99)+'burritos'"
   ]
  },
  {
   "cell_type": "code",
   "execution_count": 17,
   "id": "00629afc",
   "metadata": {},
   "outputs": [
    {
     "data": {
      "text/plain": [
       "'I have eaten99burritos'"
      ]
     },
     "execution_count": 17,
     "metadata": {},
     "output_type": "execute_result"
    }
   ],
   "source": [
    "'I have eaten'+str(99)+'burritos'"
   ]
  },
  {
   "cell_type": "code",
   "execution_count": 18,
   "id": "874d5bbc",
   "metadata": {},
   "outputs": [
    {
     "data": {
      "text/plain": [
       "'I have eaten99burritos'"
      ]
     },
     "execution_count": 18,
     "metadata": {},
     "output_type": "execute_result"
    }
   ],
   "source": [
    "'I have eaten'+'99'+'burritos'"
   ]
  },
  {
   "cell_type": "code",
   "execution_count": null,
   "id": "29407710",
   "metadata": {},
   "outputs": [],
   "source": []
  }
 ],
 "metadata": {
  "kernelspec": {
   "display_name": "Python 3 (ipykernel)",
   "language": "python",
   "name": "python3"
  },
  "language_info": {
   "codemirror_mode": {
    "name": "ipython",
    "version": 3
   },
   "file_extension": ".py",
   "mimetype": "text/x-python",
   "name": "python",
   "nbconvert_exporter": "python",
   "pygments_lexer": "ipython3",
   "version": "3.9.7"
  }
 },
 "nbformat": 4,
 "nbformat_minor": 5
}
